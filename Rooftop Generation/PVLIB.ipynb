{
  "nbformat": 4,
  "nbformat_minor": 0,
  "metadata": {
    "colab": {
      "name": "PVLIB.ipynb",
      "provenance": []
    },
    "kernelspec": {
      "name": "python3",
      "display_name": "Python 3"
    },
    "language_info": {
      "name": "python"
    }
  },
  "cells": [
    {
      "cell_type": "code",
      "metadata": {
        "id": "iTpdGwPH1TMt"
      },
      "source": [
        "!pip3 install pvlib"
      ],
      "execution_count": null,
      "outputs": []
    },
    {
      "cell_type": "code",
      "metadata": {
        "id": "DipRGzxuZCiu",
        "colab": {
          "base_uri": "https://localhost:8080/"
        },
        "outputId": "2736b988-643f-413a-85dd-0ae5fddafc7c"
      },
      "source": [
        "import pvlib\n",
        "from pvlib.pvsystem import PVSystem\n",
        "from pvlib.location import Location\n",
        "from pvlib.modelchain import ModelChain\n",
        "import pandas as pd\n",
        "\n",
        "naive_times = pd.date_range(start = '2019', end = '2020', freq = '1h')\n",
        "\n",
        "coordinates = (16.8061, 81.534167, 'Tadepalligudem', 15, 'Etc/GMT+5')\n",
        "\n",
        "modules = pvlib.pvsystem.retrieve_sam('SandiaMod')\n",
        "\n",
        "inverters = pvlib.pvsystem.retrieve_sam('cecinverter')\n",
        "\n",
        "module = modules['Canadian_Solar_CS5P_220M___2009_']\n",
        "\n",
        "inverter = inverters['ABB__MICRO_0_25_I_OUTD_US_208__208V_']\n",
        "\n",
        "temperature_model_parameters = pvlib.temperature.TEMPERATURE_MODEL_PARAMETERS['sapm']['open_rack_glass_glass']\n",
        "\n",
        "temp_air = 30  # deg C\n",
        "\n",
        "wind_speed = 4 # m/s\n",
        "\n",
        "system = PVSystem(module_parameters = module,\n",
        "                  inverter_parameters = inverter,\n",
        "                  temperature_model_parameters = temperature_model_parameters)\n",
        "\n",
        "latitude, longitude, name, altitude, timezone = coordinates[0], coordinates[1], coordinates[2], coordinates[3], coordinates[4]\n",
        "\n",
        "times = naive_times.tz_localize(timezone)\n",
        "\n",
        "location = Location(latitude, longitude, name = name, altitude = altitude, tz = timezone)\n",
        "\n",
        "weather = location.get_clearsky(times)\n",
        "\n",
        "mc = ModelChain(system, location, orientation_strategy = 'south_at_latitude_tilt')\n",
        "\n",
        "mc.run_model(weather)\n",
        "annual_energy = mc.ac.sum()\n",
        "\n",
        "print(\"Yearly Yield (kWh)\", annual_energy/(365*1000))"
      ],
      "execution_count": 1,
      "outputs": [
        {
          "output_type": "stream",
          "text": [
            "Yearly Yield (kWh) 1.253271673512141\n"
          ],
          "name": "stdout"
        }
      ]
    },
    {
      "cell_type": "code",
      "metadata": {
        "id": "usw7-CayZCiv",
        "colab": {
          "base_uri": "https://localhost:8080/"
        },
        "outputId": "fe0770e7-c530-434f-e396-5302bae64f74"
      },
      "source": [
        "print(system.surface_tilt, system.surface_azimuth)"
      ],
      "execution_count": 2,
      "outputs": [
        {
          "output_type": "stream",
          "text": [
            "16.8061 180\n"
          ],
          "name": "stdout"
        }
      ]
    }
  ]
}