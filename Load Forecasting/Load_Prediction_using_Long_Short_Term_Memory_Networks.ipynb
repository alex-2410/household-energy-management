{
  "nbformat": 4,
  "nbformat_minor": 0,
  "metadata": {
    "kernelspec": {
      "display_name": "Python 3",
      "language": "python",
      "name": "python3"
    },
    "language_info": {
      "codemirror_mode": {
        "name": "ipython",
        "version": 3
      },
      "file_extension": ".py",
      "mimetype": "text/x-python",
      "name": "python",
      "nbconvert_exporter": "python",
      "pygments_lexer": "ipython3",
      "version": "3.8.8"
    },
    "colab": {
      "name": "Load Prediction using Long Short-Term Memory Networks.ipynb",
      "provenance": []
    }
  },
  "cells": [
    {
      "cell_type": "markdown",
      "metadata": {
        "id": "68Q43y6CdpeQ"
      },
      "source": [
        "Required libraries"
      ]
    },
    {
      "cell_type": "code",
      "metadata": {
        "id": "QymuruljZCig"
      },
      "source": [
        "!pip3 install numpy\n",
        "!pip3 install pandas\n",
        "!pip3 install matplotlib\n",
        "!pip3 install tensorflow"
      ],
      "execution_count": null,
      "outputs": []
    },
    {
      "cell_type": "markdown",
      "metadata": {
        "id": "Sa2hbPrAd4en"
      },
      "source": [
        "##Importing the libraries"
      ]
    },
    {
      "cell_type": "code",
      "metadata": {
        "id": "2xwCdNEzZK_2"
      },
      "source": [
        "import numpy as np\n",
        "import pandas as pd\n",
        "import matplotlib.pyplot as plt\n",
        "import math\n",
        "import tensorflow as tf"
      ],
      "execution_count": 1,
      "outputs": []
    },
    {
      "cell_type": "markdown",
      "metadata": {
        "id": "NNoB7qwBd7zZ"
      },
      "source": [
        "##Importing and preparing the dataset"
      ]
    },
    {
      "cell_type": "code",
      "metadata": {
        "colab": {
          "base_uri": "https://localhost:8080/",
          "height": 402
        },
        "id": "XWnh6fuuZK_6",
        "outputId": "cda6fee9-31f1-4360-d523-8b8b4dbc7c62"
      },
      "source": [
        "dataset = pd.read_csv('Load Profiles.csv')\n",
        "dataset"
      ],
      "execution_count": 2,
      "outputs": [
        {
          "output_type": "execute_result",
          "data": {
            "text/html": [
              "<div>\n",
              "<style scoped>\n",
              "    .dataframe tbody tr th:only-of-type {\n",
              "        vertical-align: middle;\n",
              "    }\n",
              "\n",
              "    .dataframe tbody tr th {\n",
              "        vertical-align: top;\n",
              "    }\n",
              "\n",
              "    .dataframe thead th {\n",
              "        text-align: right;\n",
              "    }\n",
              "</style>\n",
              "<table border=\"1\" class=\"dataframe\">\n",
              "  <thead>\n",
              "    <tr style=\"text-align: right;\">\n",
              "      <th></th>\n",
              "      <th>Date/Time</th>\n",
              "      <th>Heating/Cooling</th>\n",
              "      <th>Fans</th>\n",
              "      <th>InteriorLights</th>\n",
              "      <th>ExteriorLights</th>\n",
              "      <th>InteriorEquipment</th>\n",
              "      <th>Misc : InteriorEquipment</th>\n",
              "    </tr>\n",
              "  </thead>\n",
              "  <tbody>\n",
              "    <tr>\n",
              "      <th>0</th>\n",
              "      <td>01/01  01:00:00</td>\n",
              "      <td>0.249108</td>\n",
              "      <td>0.048803</td>\n",
              "      <td>0.061268</td>\n",
              "      <td>0.011206</td>\n",
              "      <td>2.826843</td>\n",
              "      <td>0.315209</td>\n",
              "    </tr>\n",
              "    <tr>\n",
              "      <th>1</th>\n",
              "      <td>01/01  02:00:00</td>\n",
              "      <td>0.286937</td>\n",
              "      <td>0.056214</td>\n",
              "      <td>0.035740</td>\n",
              "      <td>0.006537</td>\n",
              "      <td>3.130111</td>\n",
              "      <td>0.290224</td>\n",
              "    </tr>\n",
              "    <tr>\n",
              "      <th>2</th>\n",
              "      <td>01/01  03:00:00</td>\n",
              "      <td>0.313726</td>\n",
              "      <td>0.061462</td>\n",
              "      <td>0.025528</td>\n",
              "      <td>0.004669</td>\n",
              "      <td>3.371758</td>\n",
              "      <td>0.286859</td>\n",
              "    </tr>\n",
              "    <tr>\n",
              "      <th>3</th>\n",
              "      <td>01/01  04:00:00</td>\n",
              "      <td>0.336854</td>\n",
              "      <td>0.065993</td>\n",
              "      <td>0.025528</td>\n",
              "      <td>0.004669</td>\n",
              "      <td>3.607986</td>\n",
              "      <td>0.282821</td>\n",
              "    </tr>\n",
              "    <tr>\n",
              "      <th>4</th>\n",
              "      <td>01/01  05:00:00</td>\n",
              "      <td>0.358424</td>\n",
              "      <td>0.070219</td>\n",
              "      <td>0.025528</td>\n",
              "      <td>0.004669</td>\n",
              "      <td>3.888659</td>\n",
              "      <td>0.272138</td>\n",
              "    </tr>\n",
              "    <tr>\n",
              "      <th>...</th>\n",
              "      <td>...</td>\n",
              "      <td>...</td>\n",
              "      <td>...</td>\n",
              "      <td>...</td>\n",
              "      <td>...</td>\n",
              "      <td>...</td>\n",
              "      <td>...</td>\n",
              "    </tr>\n",
              "    <tr>\n",
              "      <th>8755</th>\n",
              "      <td>12/31  20:00:00</td>\n",
              "      <td>0.098779</td>\n",
              "      <td>0.019352</td>\n",
              "      <td>0.295776</td>\n",
              "      <td>0.054100</td>\n",
              "      <td>2.069969</td>\n",
              "      <td>0.501625</td>\n",
              "    </tr>\n",
              "    <tr>\n",
              "      <th>8756</th>\n",
              "      <td>12/31  21:00:00</td>\n",
              "      <td>0.105840</td>\n",
              "      <td>0.020735</td>\n",
              "      <td>0.269368</td>\n",
              "      <td>0.049269</td>\n",
              "      <td>2.015142</td>\n",
              "      <td>0.518871</td>\n",
              "    </tr>\n",
              "    <tr>\n",
              "      <th>8757</th>\n",
              "      <td>12/31  22:00:00</td>\n",
              "      <td>0.112770</td>\n",
              "      <td>0.022093</td>\n",
              "      <td>0.227114</td>\n",
              "      <td>0.041541</td>\n",
              "      <td>1.967728</td>\n",
              "      <td>0.506757</td>\n",
              "    </tr>\n",
              "    <tr>\n",
              "      <th>8758</th>\n",
              "      <td>12/31  23:00:00</td>\n",
              "      <td>0.129033</td>\n",
              "      <td>0.025279</td>\n",
              "      <td>0.169015</td>\n",
              "      <td>0.030914</td>\n",
              "      <td>1.971973</td>\n",
              "      <td>0.438533</td>\n",
              "    </tr>\n",
              "    <tr>\n",
              "      <th>8759</th>\n",
              "      <td>12/31  24:00:00</td>\n",
              "      <td>0.148164</td>\n",
              "      <td>0.029027</td>\n",
              "      <td>0.118839</td>\n",
              "      <td>0.021736</td>\n",
              "      <td>1.996084</td>\n",
              "      <td>0.381077</td>\n",
              "    </tr>\n",
              "  </tbody>\n",
              "</table>\n",
              "<p>8760 rows × 7 columns</p>\n",
              "</div>"
            ],
            "text/plain": [
              "             Date/Time  ...  Misc : InteriorEquipment\n",
              "0      01/01  01:00:00  ...                  0.315209\n",
              "1      01/01  02:00:00  ...                  0.290224\n",
              "2      01/01  03:00:00  ...                  0.286859\n",
              "3      01/01  04:00:00  ...                  0.282821\n",
              "4      01/01  05:00:00  ...                  0.272138\n",
              "...                ...  ...                       ...\n",
              "8755   12/31  20:00:00  ...                  0.501625\n",
              "8756   12/31  21:00:00  ...                  0.518871\n",
              "8757   12/31  22:00:00  ...                  0.506757\n",
              "8758   12/31  23:00:00  ...                  0.438533\n",
              "8759   12/31  24:00:00  ...                  0.381077\n",
              "\n",
              "[8760 rows x 7 columns]"
            ]
          },
          "metadata": {
            "tags": []
          },
          "execution_count": 2
        }
      ]
    },
    {
      "cell_type": "code",
      "metadata": {
        "id": "hQBUdtUbZK_7"
      },
      "source": [
        "Total = []\n",
        "for row in dataset.to_numpy():\n",
        "    Total.append(np.sum(row[1:]))"
      ],
      "execution_count": 3,
      "outputs": []
    },
    {
      "cell_type": "code",
      "metadata": {
        "id": "QkO-7DIdZK_7"
      },
      "source": [
        "def create_dataset(data, n):\n",
        "    return np.append(data[n:len(data)], data[:n])"
      ],
      "execution_count": 4,
      "outputs": []
    },
    {
      "cell_type": "markdown",
      "metadata": {
        "id": "gHtbjMN9eMmv"
      },
      "source": [
        "##Splitting the dataset into training and test sets"
      ]
    },
    {
      "cell_type": "code",
      "metadata": {
        "id": "apkaXY9ZZK_8"
      },
      "source": [
        "look_back = 1\n",
        "x = np.array(Total)\n",
        "y = create_dataset(x, look_back)\n",
        "\n",
        "from sklearn.model_selection import train_test_split\n",
        "x_train, x_test, y_train, y_test = train_test_split(x, y, test_size = 0.25, random_state = 0)"
      ],
      "execution_count": 5,
      "outputs": []
    },
    {
      "cell_type": "code",
      "metadata": {
        "id": "bW1F8d6iZK_8"
      },
      "source": [
        "x_train = np.reshape(x_train, (x_train.shape[0], 1, 1))\n",
        "x_test = np.reshape(x_test, (x_test.shape[0], 1, 1))"
      ],
      "execution_count": 6,
      "outputs": []
    },
    {
      "cell_type": "code",
      "metadata": {
        "id": "thU2jd6pZK_8"
      },
      "source": [
        "from sklearn.metrics import mean_squared_error, mean_absolute_error, r2_score\n",
        "def mean_absolute_percentage_error(y_true, y_pred):\n",
        "    return np.mean(np.abs((y_true - y_pred) / y_true)) * 100"
      ],
      "execution_count": 7,
      "outputs": []
    },
    {
      "cell_type": "markdown",
      "metadata": {
        "id": "iOyK4qzetNij"
      },
      "source": [
        "##LSTM Model"
      ]
    },
    {
      "cell_type": "code",
      "metadata": {
        "colab": {
          "base_uri": "https://localhost:8080/"
        },
        "id": "iS6B8xC2ZK_9",
        "outputId": "ee234608-7b60-4c49-b15c-a49ca48ac26f"
      },
      "source": [
        "lstm = tf.keras.models.Sequential()\n",
        "lstm.add(tf.keras.layers.LSTM(15, input_shape=(1, look_back)))\n",
        "lstm.add(tf.keras.layers.Dense(1))\n",
        "optimizer = tf.keras.optimizers.Adam(learning_rate = 0.001)\n",
        "lstm.compile(optimizer = 'adam', loss = 'mean_squared_error')\n",
        "hist_lstm = lstm.fit(x_train, y_train, epochs=10)"
      ],
      "execution_count": 8,
      "outputs": [
        {
          "output_type": "stream",
          "text": [
            "Epoch 1/10\n",
            "206/206 [==============================] - 3s 2ms/step - loss: 4.8792\n",
            "Epoch 2/10\n",
            "206/206 [==============================] - 0s 2ms/step - loss: 0.8085\n",
            "Epoch 3/10\n",
            "206/206 [==============================] - 0s 2ms/step - loss: 0.2895\n",
            "Epoch 4/10\n",
            "206/206 [==============================] - 0s 2ms/step - loss: 0.1772\n",
            "Epoch 5/10\n",
            "206/206 [==============================] - 0s 2ms/step - loss: 0.1493\n",
            "Epoch 6/10\n",
            "206/206 [==============================] - 0s 2ms/step - loss: 0.1514\n",
            "Epoch 7/10\n",
            "206/206 [==============================] - 0s 2ms/step - loss: 0.1341\n",
            "Epoch 8/10\n",
            "206/206 [==============================] - 0s 2ms/step - loss: 0.1381\n",
            "Epoch 9/10\n",
            "206/206 [==============================] - 0s 2ms/step - loss: 0.1437\n",
            "Epoch 10/10\n",
            "206/206 [==============================] - 0s 2ms/step - loss: 0.1400\n"
          ],
          "name": "stdout"
        }
      ]
    },
    {
      "cell_type": "markdown",
      "metadata": {
        "id": "6CVwPqi8tQSV"
      },
      "source": [
        "##Results"
      ]
    },
    {
      "cell_type": "code",
      "metadata": {
        "colab": {
          "base_uri": "https://localhost:8080/",
          "height": 910
        },
        "id": "1FZvE_ECZK_9",
        "outputId": "1a9b9637-33ce-4cc1-a4bd-bda9a5ad3679"
      },
      "source": [
        "y_pred_train = lstm.predict(x_train)\n",
        "y_pred = lstm.predict(x_test)\n",
        "\n",
        "plt.plot(y_pred_train[:24])\n",
        "plt.plot(y_train[:24])\n",
        "plt.legend(('Pred', 'Train'))\n",
        "plt.ylabel('Load demand kW')\n",
        "plt.title('LSTM - Train')\n",
        "plt.show()\n",
        "\n",
        "plt.plot(y_pred[:24])\n",
        "plt.plot(y_test[:24])\n",
        "plt.legend(('Pred', 'Test'))\n",
        "plt.ylabel('Load demand kW')\n",
        "plt.title('LSTM - Test')\n",
        "plt.show()\n",
        "\n",
        "plt.plot(hist_lstm.history['loss'])\n",
        "plt.ylabel('Loss')\n",
        "plt.title('LSTM')\n",
        "plt.show()\n",
        "\n",
        "r2 = r2_score(y_test, y_pred)\n",
        "print(\"R2 Score : \", r2)\n",
        "adj_r2 = 1 - (1-r2)*(len(x_test) - 1) / (len(x_test) - x_test.shape[1] - 1)\n",
        "print(\"Adjusted R2 Score : \", adj_r2)\n",
        "temp = y_pred_train - y_train\n",
        "lstm_train_rmse = np.sqrt(np.mean(temp * temp))\n",
        "print(\"Training RMSE : \",lstm_train_rmse)\n",
        "temp = y_pred - y_test\n",
        "lstm_test_rmse = np.sqrt(np.mean(temp * temp))\n",
        "print(\"Testing RMSE : \",lstm_test_rmse)\n",
        "print(\"MAE : \", mean_absolute_error(y_test, y_pred))\n",
        "print(\"MSE : \", hist_lstm.history['loss'][-1])"
      ],
      "execution_count": null,
      "outputs": [
        {
          "output_type": "display_data",
          "data": {
            "image/png": "[encoded data removed]",
            "text/plain": [
              "<Figure size 432x288 with 1 Axes>"
            ]
          },
          "metadata": {
            "tags": [],
            "needs_background": "light"
          }
        },
        {
          "output_type": "display_data",
          "data": {
            "image/png": "[encoded data removed]",
            "text/plain": [
              "<Figure size 432x288 with 1 Axes>"
            ]
          },
          "metadata": {
            "tags": [],
            "needs_background": "light"
          }
        },
        {
          "output_type": "display_data",
          "data": {
            "image/png": "[encoded data removed]",
            "text/plain": [
              "<Figure size 432x288 with 1 Axes>"
            ]
          },
          "metadata": {
            "tags": [],
            "needs_background": "light"
          }
        },
        {
          "output_type": "stream",
          "text": [
            "R2 Score :  0.9483151389337512\n",
            "Adjusted R2 Score :  0.9482915169679987\n",
            "Training RMSE :  2.2994187700579456\n",
            "Testing RMSE :  2.2474407238639023\n",
            "MAE :  0.22379587507303964\n",
            "MSE :  0.1412937343120575\n"
          ],
          "name": "stdout"
        }
      ]
    }
  ]
}