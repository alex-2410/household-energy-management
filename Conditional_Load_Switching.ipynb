{
  "nbformat": 4,
  "nbformat_minor": 0,
  "metadata": {
    "colab": {
      "name": "Conditional Load Switching.ipynb",
      "provenance": []
    },
    "kernelspec": {
      "name": "python3",
      "display_name": "Python 3"
    },
    "language_info": {
      "name": "python"
    }
  },
  "cells": [
    {
      "cell_type": "code",
      "metadata": {
        "id": "Ryvzyd2NZYzr"
      },
      "source": [
        "import numpy as np\n",
        "import pandas as pd\n",
        "import matplotlib.pyplot as plt\n",
        "import math"
      ],
      "execution_count": null,
      "outputs": []
    },
    {
      "cell_type": "code",
      "metadata": {
        "id": "9nNxqsR5ZYzu",
        "colab": {
          "base_uri": "https://localhost:8080/",
          "height": 225
        },
        "outputId": "9907089a-b71b-47d8-9920-ac17533e3640"
      },
      "source": [
        "dataset = pd.read_csv('Data.csv')\n",
        "dataset"
      ],
      "execution_count": null,
      "outputs": [
        {
          "output_type": "execute_result",
          "data": {
            "text/html": [
              "<div>\n",
              "<style scoped>\n",
              "    .dataframe tbody tr th:only-of-type {\n",
              "        vertical-align: middle;\n",
              "    }\n",
              "\n",
              "    .dataframe tbody tr th {\n",
              "        vertical-align: top;\n",
              "    }\n",
              "\n",
              "    .dataframe thead th {\n",
              "        text-align: right;\n",
              "    }\n",
              "</style>\n",
              "<table border=\"1\" class=\"dataframe\">\n",
              "  <thead>\n",
              "    <tr style=\"text-align: right;\">\n",
              "      <th></th>\n",
              "      <th>Appliance</th>\n",
              "      <th>Rated Power (kWh)</th>\n",
              "      <th>Duration (hours)</th>\n",
              "      <th>LL</th>\n",
              "      <th>UL</th>\n",
              "    </tr>\n",
              "  </thead>\n",
              "  <tbody>\n",
              "    <tr>\n",
              "      <th>0</th>\n",
              "      <td>Refrigerator</td>\n",
              "      <td>0.50</td>\n",
              "      <td>24</td>\n",
              "      <td>0</td>\n",
              "      <td>24</td>\n",
              "    </tr>\n",
              "    <tr>\n",
              "      <th>1</th>\n",
              "      <td>Television</td>\n",
              "      <td>0.50</td>\n",
              "      <td>6</td>\n",
              "      <td>17</td>\n",
              "      <td>23</td>\n",
              "    </tr>\n",
              "    <tr>\n",
              "      <th>2</th>\n",
              "      <td>Indoor Lighting</td>\n",
              "      <td>0.50</td>\n",
              "      <td>5</td>\n",
              "      <td>18</td>\n",
              "      <td>23</td>\n",
              "    </tr>\n",
              "    <tr>\n",
              "      <th>3</th>\n",
              "      <td>AC</td>\n",
              "      <td>1.50</td>\n",
              "      <td>3</td>\n",
              "      <td>12</td>\n",
              "      <td>15</td>\n",
              "    </tr>\n",
              "    <tr>\n",
              "      <th>4</th>\n",
              "      <td>Washing Machine</td>\n",
              "      <td>1.00</td>\n",
              "      <td>2</td>\n",
              "      <td>13</td>\n",
              "      <td>15</td>\n",
              "    </tr>\n",
              "    <tr>\n",
              "      <th>5</th>\n",
              "      <td>Dish Washer</td>\n",
              "      <td>0.75</td>\n",
              "      <td>2</td>\n",
              "      <td>20</td>\n",
              "      <td>22</td>\n",
              "    </tr>\n",
              "  </tbody>\n",
              "</table>\n",
              "</div>"
            ],
            "text/plain": [
              "         Appliance  Rated Power (kWh)  Duration (hours)  LL  UL\n",
              "0     Refrigerator               0.50                24   0  24\n",
              "1       Television               0.50                 6  17  23\n",
              "2  Indoor Lighting               0.50                 5  18  23\n",
              "3               AC               1.50                 3  12  15\n",
              "4  Washing Machine               1.00                 2  13  15\n",
              "5      Dish Washer               0.75                 2  20  22"
            ]
          },
          "metadata": {
            "tags": []
          },
          "execution_count": 45
        }
      ]
    },
    {
      "cell_type": "code",
      "metadata": {
        "id": "pc5C0ORS0CHa"
      },
      "source": [
        "shiftable = [4, 5]\n",
        "load = [0]*24\n",
        "offpeak_start = 0 #am\n",
        "offpeak_end = 5 #am"
      ],
      "execution_count": null,
      "outputs": []
    },
    {
      "cell_type": "code",
      "metadata": {
        "id": "Iy5N5kXs01GE"
      },
      "source": [
        "for i in range(dataset.shape[0]):\n",
        "  data = dataset.iloc[i, :]\n",
        "  if i in shiftable:\n",
        "    maxloads = [0]*(offpeak_end+1-data['Duration (hours)']-offpeak_start)\n",
        "    for j in range(offpeak_start, offpeak_end+1-data['Duration (hours)']):\n",
        "      maxloads[j] = max(load[j:(j+data['Duration (hours)']-1)])\n",
        "    load[maxloads.index(min(maxloads)):(maxloads.index(min(maxloads))+data['Duration (hours)'])] += data['Rated Power (kWh)']\n",
        "  else:\n",
        "    load[data['LL']:(data['UL']-1)] += data['Rated Power (kWh)']"
      ],
      "execution_count": null,
      "outputs": []
    },
    {
      "cell_type": "code",
      "metadata": {
        "colab": {
          "base_uri": "https://localhost:8080/",
          "height": 265
        },
        "id": "6G1NPD6b6f1m",
        "outputId": "bbd0787b-c3ea-4c74-888a-f6ae3aff7619"
      },
      "source": [
        "plt.plot(load)\n",
        "plt.show()"
      ],
      "execution_count": null,
      "outputs": [
        {
          "output_type": "display_data",
          "data": {
            "image/png": "[encoded data removed]",
            "text/plain": [
              "<Figure size 432x288 with 1 Axes>"
            ]
          },
          "metadata": {
            "tags": [],
            "needs_background": "light"
          }
        }
      ]
    }
  ]
}